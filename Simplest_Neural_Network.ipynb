{
  "nbformat": 4,
  "nbformat_minor": 0,
  "metadata": {
    "colab": {
      "name": "Simplest Neural Network.ipynb",
      "provenance": [],
      "authorship_tag": "ABX9TyNQak9mOVDD47T3HUZAVWw0",
      "include_colab_link": true
    },
    "kernelspec": {
      "name": "python3",
      "display_name": "Python 3"
    },
    "language_info": {
      "name": "python"
    }
  },
  "cells": [
    {
      "cell_type": "markdown",
      "metadata": {
        "id": "view-in-github",
        "colab_type": "text"
      },
      "source": [
        "<a href=\"https://colab.research.google.com/github/happyduckyy/Deep-Hedging/blob/main/Simplest_Neural_Network.ipynb\" target=\"_parent\"><img src=\"https://colab.research.google.com/assets/colab-badge.svg\" alt=\"Open In Colab\"/></a>"
      ]
    },
    {
      "cell_type": "markdown",
      "source": [
        "Simplest Neural Network\n",
        "\n",
        ": model > (summary) > compile > fit > predict"
      ],
      "metadata": {
        "id": "WiQS3c_8TUPy"
      }
    },
    {
      "cell_type": "code",
      "execution_count": null,
      "metadata": {
        "id": "MN6zWY81RIZ_"
      },
      "outputs": [],
      "source": [
        "import tensorflow as tf"
      ]
    },
    {
      "cell_type": "code",
      "source": [
        "my_model = tf.keras.Sequential([\n",
        "    tf.keras.layers.Dense(10, input_shape = [1], activation = \"relu\"), #하나의 layer, 그 안에 node 10개 #첫번째 레이어에서는 input shape: independent parameter개수 정해줘야함(w개수)\n",
        "    tf.keras.layers.Dense(1) #두번째 layer, 그 안에 node 1개 - regression을 위해서는 마지막 layer에 node가 하나여야 함!\n",
        "])\n",
        "\n",
        "my_model.summary()"
      ],
      "metadata": {
        "colab": {
          "base_uri": "https://localhost:8080/"
        },
        "id": "0uS9Al9XR3vG",
        "outputId": "5703b047-8a5d-4b35-dc15-85cd9e795e4d"
      },
      "execution_count": null,
      "outputs": [
        {
          "output_type": "stream",
          "name": "stdout",
          "text": [
            "Model: \"sequential_1\"\n",
            "_________________________________________________________________\n",
            " Layer (type)                Output Shape              Param #   \n",
            "=================================================================\n",
            " dense_7 (Dense)             (None, 10)                20        \n",
            "                                                                 \n",
            " dense_8 (Dense)             (None, 1)                 11        \n",
            "                                                                 \n",
            "=================================================================\n",
            "Total params: 31\n",
            "Trainable params: 31\n",
            "Non-trainable params: 0\n",
            "_________________________________________________________________\n"
          ]
        }
      ]
    },
    {
      "cell_type": "code",
      "source": [
        "my_model.compile(\n",
        "    loss = 'mse', #loss function\n",
        "    optimizer = \"adam\" #minumum loss를 찾아가는 방법\n",
        ")"
      ],
      "metadata": {
        "id": "bySKKz2KSWNk"
      },
      "execution_count": null,
      "outputs": []
    },
    {
      "cell_type": "code",
      "source": [
        "my_model.fit([0, 3, 7, 5], [1, 9, 3, 2], epochs = 100) #[x값], [y값], 해당 데이터셋 100번 사용"
      ],
      "metadata": {
        "id": "l-x7nI5eSdJC"
      },
      "execution_count": null,
      "outputs": []
    },
    {
      "cell_type": "code",
      "source": [
        "my_model.predict([2]) #x값을 주고 예측"
      ],
      "metadata": {
        "colab": {
          "base_uri": "https://localhost:8080/"
        },
        "id": "Ta_WO2ZlSmYB",
        "outputId": "4dd03f55-f7d2-448a-9541-82a6780a1c45"
      },
      "execution_count": null,
      "outputs": [
        {
          "output_type": "execute_result",
          "data": {
            "text/plain": [
              "array([[0.14497757]], dtype=float32)"
            ]
          },
          "metadata": {},
          "execution_count": 10
        }
      ]
    },
    {
      "cell_type": "code",
      "source": [
        "my_model.get_weights() #하나가 w, 하나가 b - 노드 개수대로 한 쌍씩 나옴"
      ],
      "metadata": {
        "colab": {
          "base_uri": "https://localhost:8080/"
        },
        "id": "p5rEp57-S5Th",
        "outputId": "4955a7e6-496b-492c-e1a9-ae217586be69"
      },
      "execution_count": null,
      "outputs": [
        {
          "output_type": "execute_result",
          "data": {
            "text/plain": [
              "[array([[-0.05603309]], dtype=float32), array([0.25704375], dtype=float32)]"
            ]
          },
          "metadata": {},
          "execution_count": 11
        }
      ]
    },
    {
      "cell_type": "code",
      "source": [
        ""
      ],
      "metadata": {
        "id": "QJQWqoROT-li"
      },
      "execution_count": null,
      "outputs": []
    }
  ]
}